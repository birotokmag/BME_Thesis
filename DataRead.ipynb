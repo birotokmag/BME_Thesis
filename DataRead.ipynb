{
 "cells": [
  {
   "cell_type": "code",
   "execution_count": 21,
   "metadata": {},
   "outputs": [],
   "source": [
    "import pandas as pd\n",
    "import numpy as np\n",
    "from tslearn.preprocessing import TimeSeriesScalerMeanVariance\n",
    "from tslearn.clustering import TimeSeriesKMeans\n",
    "import matplotlib.pyplot as plt"
   ]
  },
  {
   "cell_type": "markdown",
   "metadata": {},
   "source": [
    "# Read 2020 data"
   ]
  },
  {
   "cell_type": "code",
   "execution_count": 2,
   "metadata": {},
   "outputs": [],
   "source": [
    "tmp20 = pd.read_csv(\"data/CE1929.txt\", sep=\";\", header=None)\n",
    "tmp20.columns=[\"Company\", \"TEÁOR\", \"Meta\", \"Value\"]\n",
    "df20 = pd.pivot_table(tmp20, values=\"Value\", index=[\"Company\"], columns=\"Meta\")\n",
    "df20.columns = \"20\"+df20.columns"
   ]
  },
  {
   "cell_type": "markdown",
   "metadata": {},
   "source": [
    "# Read 2019 data"
   ]
  },
  {
   "cell_type": "code",
   "execution_count": 3,
   "metadata": {},
   "outputs": [],
   "source": [
    "tmp19 = pd.read_csv(\"data/CE1829.txt\", sep=\";\", header=None)\n",
    "tmp19.columns=[\"Company\", \"TEÁOR\", \"Meta\", \"Value\"]\n",
    "df19 = pd.pivot_table(tmp19, values=\"Value\", index=[\"Company\"], columns=\"Meta\")\n",
    "df19.columns = \"19\"+df19.columns"
   ]
  },
  {
   "cell_type": "markdown",
   "metadata": {},
   "source": [
    "# Read 2018 data"
   ]
  },
  {
   "cell_type": "code",
   "execution_count": 4,
   "metadata": {},
   "outputs": [],
   "source": [
    "tmp18 = pd.read_csv(\"data/CE1729.txt\", sep=\";\", header=None)\n",
    "tmp18.columns=[\"Company\", \"TEÁOR\", \"Meta\", \"Value\"]\n",
    "df18 = pd.pivot_table(tmp18, values=\"Value\", index=[\"Company\"], columns=\"Meta\")\n",
    "df18.columns = \"18\"+df18.columns"
   ]
  },
  {
   "cell_type": "markdown",
   "metadata": {},
   "source": [
    "# Read 2017 data"
   ]
  },
  {
   "cell_type": "code",
   "execution_count": 6,
   "metadata": {},
   "outputs": [],
   "source": [
    "tmp17 = pd.read_csv(\"data/CE1629.txt\", sep=\";\", header=None)\n",
    "tmp17.columns=[\"Company\", \"TEÁOR\", \"Meta\", \"Value\"]\n",
    "stringMeta = ['TAB091', 'TAB088', 'TAB226', 'TAB229']\n",
    "stringIndex = tmp17[tmp17['Meta'].isin(stringMeta)].index\n",
    "tmp17.drop(stringIndex, inplace = True)\n",
    "df17 = pd.pivot_table(tmp17, values=\"Value\", index=[\"Company\"], columns=\"Meta\")\n",
    "df17.columns = \"17\"+df17.columns"
   ]
  },
  {
   "cell_type": "markdown",
   "metadata": {},
   "source": [
    "# Read 2016 data"
   ]
  },
  {
   "cell_type": "code",
   "execution_count": 7,
   "metadata": {},
   "outputs": [],
   "source": [
    "tmp16 = pd.read_csv(\"data/CE1529.txt\", sep=\";\", header=None)\n",
    "tmp16.columns=[\"Company\", \"TEÁOR\", \"Meta\", \"Value\"]\n",
    "stringMeta = ['TAB091', 'TAB088', 'TAB226', 'TAB229']\n",
    "stringIndex = tmp16[tmp16['Meta'].isin(stringMeta)].index\n",
    "tmp16.drop(stringIndex, inplace = True)\n",
    "df16 = pd.pivot_table(tmp16, values=\"Value\", index=[\"Company\"], columns=\"Meta\")\n",
    "df16.columns = \"16\"+df16.columns"
   ]
  },
  {
   "cell_type": "markdown",
   "metadata": {},
   "source": [
    "# Read 2015 data"
   ]
  },
  {
   "cell_type": "code",
   "execution_count": 8,
   "metadata": {},
   "outputs": [],
   "source": [
    "tmp15 = pd.read_csv(\"data/CE1429.txt\", sep=\";\", header=None)\n",
    "tmp15.columns=[\"Company\", \"TEÁOR\", \"Meta\", \"Value\"]\n",
    "tmp15[\"Value\"] = pd.to_numeric(tmp15[\"Value\"], errors='coerce')\n",
    "tmp15.dropna(inplace = True)\n",
    "df15 = pd.pivot_table(tmp15, values=\"Value\", index=[\"Company\"], columns=\"Meta\")\n",
    "df15.columns = \"15\"+df15.columns"
   ]
  },
  {
   "cell_type": "markdown",
   "metadata": {},
   "source": [
    "# Read 2014 data"
   ]
  },
  {
   "cell_type": "code",
   "execution_count": 9,
   "metadata": {},
   "outputs": [],
   "source": [
    "tmp14 = pd.read_csv(\"data/CE1329.txt\", sep=\";\", header=None)\n",
    "tmp14.columns=[\"Company\", \"TEÁOR\", \"Meta\", \"Value\"]\n",
    "tmp14[\"Value\"] = pd.to_numeric(tmp14[\"Value\"], errors='coerce')\n",
    "tmp14.dropna(inplace = True)\n",
    "df14 = pd.pivot_table(tmp14, values=\"Value\", index=[\"Company\"], columns=\"Meta\")\n",
    "df14.columns = \"14\"+df14.columns"
   ]
  },
  {
   "cell_type": "markdown",
   "metadata": {},
   "source": [
    "# Merge all years"
   ]
  },
  {
   "cell_type": "code",
   "execution_count": 10,
   "metadata": {},
   "outputs": [],
   "source": [
    "years = [df14, df15, df16, df17, df18, df19, df20]\n",
    "df = pd.concat(years, axis = 1, join =\"inner\")\n",
    "df[\"TEÁOR\"] = tmp16[\"TEÁOR\"]\n",
    "df[\"sector\"] = df[\"TEÁOR\"].astype(str).str[0:2]"
   ]
  },
  {
   "cell_type": "markdown",
   "metadata": {},
   "source": [
    "# Filter small companies"
   ]
  },
  {
   "cell_type": "code",
   "execution_count": 11,
   "metadata": {},
   "outputs": [],
   "source": [
    "yearsString = [\"14\", \"15\", \"16\", \"18\", \"19\", \"20\"]\n",
    "for y in yearsString:\n",
    "    smallCompaniesIndex = df[df[y+\"TAH082\"] < 10].index\n",
    "    df.drop(smallCompaniesIndex, inplace = True)\n",
    "smallCompaniesIndex = df[df[\"17TAH183\"] < 10].index\n",
    "df.drop(smallCompaniesIndex, inplace = True)\n",
    "df.fillna(0, inplace = True)"
   ]
  },
  {
   "cell_type": "markdown",
   "metadata": {},
   "source": [
    "# Drop outliers"
   ]
  },
  {
   "cell_type": "code",
   "execution_count": null,
   "metadata": {},
   "outputs": [],
   "source": [
    "df.drop(df[\n",
    "        (df[\"14Productivity\"]>df[\"14Productivity\"].quantile(.97)) |\n",
    "        (df[\"14Productivity\"]<df[\"14Productivity\"].quantile(.03)) |\n",
    "        (df[\"15Productivity\"]>df[\"15Productivity\"].quantile(.97)) |\n",
    "        (df[\"15Productivity\"]<df[\"15Productivity\"].quantile(.03)) |\n",
    "        (df[\"16Productivity\"]>df[\"16Productivity\"].quantile(.97)) |\n",
    "        (df[\"16Productivity\"]<df[\"16Productivity\"].quantile(.03)) |\n",
    "        (df[\"17Productivity\"]>df[\"17Productivity\"].quantile(.97)) |\n",
    "        (df[\"17Productivity\"]<df[\"17Productivity\"].quantile(.03)) |\n",
    "        (df[\"18Productivity\"]>df[\"18Productivity\"].quantile(.97)) |\n",
    "        (df[\"18Productivity\"]<df[\"18Productivity\"].quantile(.03)) |\n",
    "        (df[\"19Productivity\"]>df[\"19Productivity\"].quantile(.97)) |\n",
    "        (df[\"19Productivity\"]<df[\"19Productivity\"].quantile(.03)) |    \n",
    "        (df[\"20Productivity\"]>df[\"20Productivity\"].quantile(.97)) |\n",
    "        (df[\"20Productivity\"]<df[\"20Productivity\"].quantile(.03))\n",
    "].index, inplace=True)\n",
    "df.drop(df[(df[\"14TAH033\"]<0) | (df[\"20TAH033\"]<0) | (df[\"15TAH033\"]<0) | (df[\"16TAH033\"]<0) | (df[\"17TAH033\"]<0) | (df[\"18TAH033\"]<0) | (df[\"19TAH033\"]<0)].index, inplace=True)"
   ]
  },
  {
   "cell_type": "markdown",
   "metadata": {},
   "source": [
    "# Calculate productivity"
   ]
  },
  {
   "cell_type": "code",
   "execution_count": 12,
   "metadata": {},
   "outputs": [],
   "source": [
    "for y in yearsString:\n",
    "    df[y+\"ProductivityNet\"] = (df[y+\"TAC002\"]-df[y+\"TAC007\"]+df[y+\"TAC006\"]-df[y+\"TAC016\"]) / df[y+\"TAH082\"]\n",
    "    df[y+\"Productivity\"] = (df[y+\"TAC002\"]-df[y+\"TAC007\"]+df[y+\"TAC006\"]) / df[y+\"TAH082\"]\n",
    "    zeroProd = df[df[y+\"Productivity\"] == 0]\n",
    "    df.drop(df[df[y+\"Productivity\"] == 0].index, inplace =True)\n",
    "    df.drop(df[(df[y+\"Productivity\"] == np.inf) | (df[y+\"Productivity\"] == -np.inf)].index, inplace =True)\n",
    "    df.drop(df[pd.isna(df[y+\"Productivity\"])].index, inplace =True)\n",
    "    df.drop(df[(df[y+\"TAH033\"]<0)].index, inplace=True)\n",
    "    df.drop(columns = [y+\"TAC002\", y+\"TAC007\", y+\"TAC006\", y+\"TAC016\", y+\"TAH082\"], inplace=True)\n",
    "    \n",
    "df[\"17ProductivityNet\"] = (df[\"17TAC002\"]-df[\"17TAC007\"]+df[\"17TAC006\"]-df[\"17TAC016\"]) / df[\"17TAH183\"]\n",
    "df[\"17Productivity\"] = (df[\"17TAC002\"]-df[\"17TAC007\"]+df[\"17TAC006\"]) / df[\"17TAH183\"]\n",
    "zeroProd = df[df[\"17Productivity\"] == 0]\n",
    "df.drop(df[df[\"17Productivity\"] == 0].index, inplace =True)\n",
    "df.drop(df[(df[\"17Productivity\"] == np.inf) | (df[\"17Productivity\"] == -np.inf)].index, inplace =True)\n",
    "df.drop(df[pd.isna(df[\"17Productivity\"])].index, inplace =True)\n",
    "df.drop(df[(df[\"17TAH033\"]<0)].index, inplace=True)\n",
    "df.drop(columns = [\"17TAC002\", \"17TAC007\", \"17TAC006\", \"17TAC016\", \"17TAH082\"], inplace=True)\n",
    "\n",
    "for i in range(14, 20): \n",
    "    df[str(i)+\"c\"+str(i+1)+\"Productivity\"] = (df[str(i+1)+\"Productivity\"] - df[str(i)+\"Productivity\"])/abs(df[str(i)+\"Productivity\"])"
   ]
  },
  {
   "cell_type": "code",
   "execution_count": 14,
   "metadata": {},
   "outputs": [],
   "source": [
    "penzugyi = [64, 65, 66]\n",
    "df.drop(df[df[\"sector\"].isin(penzugyi)].index, inplace=True)"
   ]
  },
  {
   "cell_type": "code",
   "execution_count": 53,
   "metadata": {},
   "outputs": [
    {
     "data": {
      "text/html": [
       "<div>\n",
       "<style scoped>\n",
       "    .dataframe tbody tr th:only-of-type {\n",
       "        vertical-align: middle;\n",
       "    }\n",
       "\n",
       "    .dataframe tbody tr th {\n",
       "        vertical-align: top;\n",
       "    }\n",
       "\n",
       "    .dataframe thead th {\n",
       "        text-align: right;\n",
       "    }\n",
       "</style>\n",
       "<table border=\"1\" class=\"dataframe\">\n",
       "  <thead>\n",
       "    <tr style=\"text-align: right;\">\n",
       "      <th>Meta</th>\n",
       "      <th>14ARBKOD</th>\n",
       "      <th>14MKE106</th>\n",
       "      <th>14MKU106</th>\n",
       "      <th>14TAA004</th>\n",
       "      <th>14TAB001</th>\n",
       "      <th>14TAB004</th>\n",
       "      <th>14TAB005</th>\n",
       "      <th>14TAB007</th>\n",
       "      <th>14TAB008</th>\n",
       "      <th>14TAB012</th>\n",
       "      <th>...</th>\n",
       "      <th>20ProductivityNet</th>\n",
       "      <th>20Productivity</th>\n",
       "      <th>17ProductivityNet</th>\n",
       "      <th>17Productivity</th>\n",
       "      <th>14c15Productivity</th>\n",
       "      <th>15c16Productivity</th>\n",
       "      <th>16c17Productivity</th>\n",
       "      <th>17c18Productivity</th>\n",
       "      <th>18c19Productivity</th>\n",
       "      <th>19c20Productivity</th>\n",
       "    </tr>\n",
       "  </thead>\n",
       "  <tbody>\n",
       "    <tr>\n",
       "      <th>count</th>\n",
       "      <td>13869.000000</td>\n",
       "      <td>13869.000000</td>\n",
       "      <td>13869.000000</td>\n",
       "      <td>1.386900e+04</td>\n",
       "      <td>1.386900e+04</td>\n",
       "      <td>1.386900e+04</td>\n",
       "      <td>1.386900e+04</td>\n",
       "      <td>13869.000000</td>\n",
       "      <td>1.386900e+04</td>\n",
       "      <td>1.386900e+04</td>\n",
       "      <td>...</td>\n",
       "      <td>1.386900e+04</td>\n",
       "      <td>1.386900e+04</td>\n",
       "      <td>1.386900e+04</td>\n",
       "      <td>1.386900e+04</td>\n",
       "      <td>13869.000000</td>\n",
       "      <td>13869.000000</td>\n",
       "      <td>13869.000000</td>\n",
       "      <td>13869.000000</td>\n",
       "      <td>13869.000000</td>\n",
       "      <td>13869.000000</td>\n",
       "    </tr>\n",
       "    <tr>\n",
       "      <th>mean</th>\n",
       "      <td>0.003749</td>\n",
       "      <td>1.683539</td>\n",
       "      <td>1.692191</td>\n",
       "      <td>-3.111633e+03</td>\n",
       "      <td>1.212728e+05</td>\n",
       "      <td>2.224362e+05</td>\n",
       "      <td>1.747729e+05</td>\n",
       "      <td>136.523614</td>\n",
       "      <td>7.941303e+04</td>\n",
       "      <td>1.664800e+04</td>\n",
       "      <td>...</td>\n",
       "      <td>8.670828e+03</td>\n",
       "      <td>1.012612e+04</td>\n",
       "      <td>6.680606e+03</td>\n",
       "      <td>7.951720e+03</td>\n",
       "      <td>0.401254</td>\n",
       "      <td>0.267833</td>\n",
       "      <td>0.423965</td>\n",
       "      <td>0.554072</td>\n",
       "      <td>0.247986</td>\n",
       "      <td>2.260266</td>\n",
       "    </tr>\n",
       "    <tr>\n",
       "      <th>std</th>\n",
       "      <td>0.091381</td>\n",
       "      <td>0.999208</td>\n",
       "      <td>1.002627</td>\n",
       "      <td>7.691482e+04</td>\n",
       "      <td>2.847679e+06</td>\n",
       "      <td>2.806407e+06</td>\n",
       "      <td>1.663874e+06</td>\n",
       "      <td>14358.777089</td>\n",
       "      <td>1.195562e+06</td>\n",
       "      <td>1.813116e+05</td>\n",
       "      <td>...</td>\n",
       "      <td>3.245648e+04</td>\n",
       "      <td>3.779515e+04</td>\n",
       "      <td>2.400650e+04</td>\n",
       "      <td>3.012228e+04</td>\n",
       "      <td>5.231296</td>\n",
       "      <td>4.594533</td>\n",
       "      <td>24.120663</td>\n",
       "      <td>34.924154</td>\n",
       "      <td>7.268882</td>\n",
       "      <td>228.927023</td>\n",
       "    </tr>\n",
       "    <tr>\n",
       "      <th>min</th>\n",
       "      <td>0.000000</td>\n",
       "      <td>0.000000</td>\n",
       "      <td>0.000000</td>\n",
       "      <td>-2.433726e+06</td>\n",
       "      <td>-5.200612e+07</td>\n",
       "      <td>0.000000e+00</td>\n",
       "      <td>0.000000e+00</td>\n",
       "      <td>-975965.000000</td>\n",
       "      <td>-5.207106e+07</td>\n",
       "      <td>0.000000e+00</td>\n",
       "      <td>...</td>\n",
       "      <td>-1.664293e+06</td>\n",
       "      <td>-1.664293e+06</td>\n",
       "      <td>-1.015944e+06</td>\n",
       "      <td>-1.015860e+06</td>\n",
       "      <td>-37.646035</td>\n",
       "      <td>-69.694100</td>\n",
       "      <td>-357.954035</td>\n",
       "      <td>-1273.526316</td>\n",
       "      <td>-522.951720</td>\n",
       "      <td>-150.100000</td>\n",
       "    </tr>\n",
       "    <tr>\n",
       "      <th>25%</th>\n",
       "      <td>0.000000</td>\n",
       "      <td>1.000000</td>\n",
       "      <td>1.000000</td>\n",
       "      <td>-8.260000e+02</td>\n",
       "      <td>3.541000e+03</td>\n",
       "      <td>6.313000e+03</td>\n",
       "      <td>5.542000e+03</td>\n",
       "      <td>0.000000</td>\n",
       "      <td>3.643000e+03</td>\n",
       "      <td>3.640000e+02</td>\n",
       "      <td>...</td>\n",
       "      <td>3.318231e+03</td>\n",
       "      <td>4.018323e+03</td>\n",
       "      <td>2.440700e+03</td>\n",
       "      <td>2.972909e+03</td>\n",
       "      <td>-0.064676</td>\n",
       "      <td>-0.093809</td>\n",
       "      <td>-0.107251</td>\n",
       "      <td>-0.050058</td>\n",
       "      <td>-0.051799</td>\n",
       "      <td>-0.075660</td>\n",
       "    </tr>\n",
       "    <tr>\n",
       "      <th>50%</th>\n",
       "      <td>0.000000</td>\n",
       "      <td>2.000000</td>\n",
       "      <td>2.000000</td>\n",
       "      <td>0.000000e+00</td>\n",
       "      <td>1.969400e+04</td>\n",
       "      <td>2.283400e+04</td>\n",
       "      <td>1.769600e+04</td>\n",
       "      <td>0.000000</td>\n",
       "      <td>1.517600e+04</td>\n",
       "      <td>1.518000e+03</td>\n",
       "      <td>...</td>\n",
       "      <td>5.563816e+03</td>\n",
       "      <td>6.628236e+03</td>\n",
       "      <td>4.178368e+03</td>\n",
       "      <td>5.030600e+03</td>\n",
       "      <td>0.082293</td>\n",
       "      <td>0.050540</td>\n",
       "      <td>0.040542</td>\n",
       "      <td>0.089437</td>\n",
       "      <td>0.086002</td>\n",
       "      <td>0.066572</td>\n",
       "    </tr>\n",
       "    <tr>\n",
       "      <th>75%</th>\n",
       "      <td>0.000000</td>\n",
       "      <td>2.000000</td>\n",
       "      <td>2.000000</td>\n",
       "      <td>0.000000e+00</td>\n",
       "      <td>7.080000e+04</td>\n",
       "      <td>7.286800e+04</td>\n",
       "      <td>5.593600e+04</td>\n",
       "      <td>0.000000</td>\n",
       "      <td>5.493200e+04</td>\n",
       "      <td>5.493000e+03</td>\n",
       "      <td>...</td>\n",
       "      <td>9.284000e+03</td>\n",
       "      <td>1.079539e+04</td>\n",
       "      <td>7.221208e+03</td>\n",
       "      <td>8.518400e+03</td>\n",
       "      <td>0.289509</td>\n",
       "      <td>0.226212</td>\n",
       "      <td>0.198321</td>\n",
       "      <td>0.271304</td>\n",
       "      <td>0.257101</td>\n",
       "      <td>0.224410</td>\n",
       "    </tr>\n",
       "    <tr>\n",
       "      <th>max</th>\n",
       "      <td>3.000000</td>\n",
       "      <td>3.000000</td>\n",
       "      <td>3.000000</td>\n",
       "      <td>6.906000e+06</td>\n",
       "      <td>2.816785e+08</td>\n",
       "      <td>2.289199e+08</td>\n",
       "      <td>9.401780e+07</td>\n",
       "      <td>501118.000000</td>\n",
       "      <td>5.289952e+07</td>\n",
       "      <td>1.000591e+07</td>\n",
       "      <td>...</td>\n",
       "      <td>1.870100e+06</td>\n",
       "      <td>2.328904e+06</td>\n",
       "      <td>1.444264e+06</td>\n",
       "      <td>2.111312e+06</td>\n",
       "      <td>368.702303</td>\n",
       "      <td>342.791045</td>\n",
       "      <td>2582.916667</td>\n",
       "      <td>3831.195122</td>\n",
       "      <td>566.781040</td>\n",
       "      <td>26931.800000</td>\n",
       "    </tr>\n",
       "  </tbody>\n",
       "</table>\n",
       "<p>8 rows × 1958 columns</p>\n",
       "</div>"
      ],
      "text/plain": [
       "Meta       14ARBKOD      14MKE106      14MKU106      14TAA004      14TAB001  \\\n",
       "count  13869.000000  13869.000000  13869.000000  1.386900e+04  1.386900e+04   \n",
       "mean       0.003749      1.683539      1.692191 -3.111633e+03  1.212728e+05   \n",
       "std        0.091381      0.999208      1.002627  7.691482e+04  2.847679e+06   \n",
       "min        0.000000      0.000000      0.000000 -2.433726e+06 -5.200612e+07   \n",
       "25%        0.000000      1.000000      1.000000 -8.260000e+02  3.541000e+03   \n",
       "50%        0.000000      2.000000      2.000000  0.000000e+00  1.969400e+04   \n",
       "75%        0.000000      2.000000      2.000000  0.000000e+00  7.080000e+04   \n",
       "max        3.000000      3.000000      3.000000  6.906000e+06  2.816785e+08   \n",
       "\n",
       "Meta       14TAB004      14TAB005       14TAB007      14TAB008      14TAB012  \\\n",
       "count  1.386900e+04  1.386900e+04   13869.000000  1.386900e+04  1.386900e+04   \n",
       "mean   2.224362e+05  1.747729e+05     136.523614  7.941303e+04  1.664800e+04   \n",
       "std    2.806407e+06  1.663874e+06   14358.777089  1.195562e+06  1.813116e+05   \n",
       "min    0.000000e+00  0.000000e+00 -975965.000000 -5.207106e+07  0.000000e+00   \n",
       "25%    6.313000e+03  5.542000e+03       0.000000  3.643000e+03  3.640000e+02   \n",
       "50%    2.283400e+04  1.769600e+04       0.000000  1.517600e+04  1.518000e+03   \n",
       "75%    7.286800e+04  5.593600e+04       0.000000  5.493200e+04  5.493000e+03   \n",
       "max    2.289199e+08  9.401780e+07  501118.000000  5.289952e+07  1.000591e+07   \n",
       "\n",
       "Meta   ...  20ProductivityNet  20Productivity  17ProductivityNet  \\\n",
       "count  ...       1.386900e+04    1.386900e+04       1.386900e+04   \n",
       "mean   ...       8.670828e+03    1.012612e+04       6.680606e+03   \n",
       "std    ...       3.245648e+04    3.779515e+04       2.400650e+04   \n",
       "min    ...      -1.664293e+06   -1.664293e+06      -1.015944e+06   \n",
       "25%    ...       3.318231e+03    4.018323e+03       2.440700e+03   \n",
       "50%    ...       5.563816e+03    6.628236e+03       4.178368e+03   \n",
       "75%    ...       9.284000e+03    1.079539e+04       7.221208e+03   \n",
       "max    ...       1.870100e+06    2.328904e+06       1.444264e+06   \n",
       "\n",
       "Meta   17Productivity  14c15Productivity  15c16Productivity  \\\n",
       "count    1.386900e+04       13869.000000       13869.000000   \n",
       "mean     7.951720e+03           0.401254           0.267833   \n",
       "std      3.012228e+04           5.231296           4.594533   \n",
       "min     -1.015860e+06         -37.646035         -69.694100   \n",
       "25%      2.972909e+03          -0.064676          -0.093809   \n",
       "50%      5.030600e+03           0.082293           0.050540   \n",
       "75%      8.518400e+03           0.289509           0.226212   \n",
       "max      2.111312e+06         368.702303         342.791045   \n",
       "\n",
       "Meta   16c17Productivity  17c18Productivity  18c19Productivity  \\\n",
       "count       13869.000000       13869.000000       13869.000000   \n",
       "mean            0.423965           0.554072           0.247986   \n",
       "std            24.120663          34.924154           7.268882   \n",
       "min          -357.954035       -1273.526316        -522.951720   \n",
       "25%            -0.107251          -0.050058          -0.051799   \n",
       "50%             0.040542           0.089437           0.086002   \n",
       "75%             0.198321           0.271304           0.257101   \n",
       "max          2582.916667        3831.195122         566.781040   \n",
       "\n",
       "Meta   19c20Productivity  \n",
       "count       13869.000000  \n",
       "mean            2.260266  \n",
       "std           228.927023  \n",
       "min          -150.100000  \n",
       "25%            -0.075660  \n",
       "50%             0.066572  \n",
       "75%             0.224410  \n",
       "max         26931.800000  \n",
       "\n",
       "[8 rows x 1958 columns]"
      ]
     },
     "execution_count": 53,
     "metadata": {},
     "output_type": "execute_result"
    }
   ],
   "source": [
    "df.describe()"
   ]
  },
  {
   "cell_type": "code",
   "execution_count": 13,
   "metadata": {},
   "outputs": [],
   "source": [
    "df.to_pickle(\"data/dataframeAlap\")"
   ]
  }
 ],
 "metadata": {
  "kernelspec": {
   "display_name": "Python 3",
   "language": "python",
   "name": "python3"
  },
  "language_info": {
   "codemirror_mode": {
    "name": "ipython",
    "version": 3
   },
   "file_extension": ".py",
   "mimetype": "text/x-python",
   "name": "python",
   "nbconvert_exporter": "python",
   "pygments_lexer": "ipython3",
   "version": "3.8.1"
  }
 },
 "nbformat": 4,
 "nbformat_minor": 5
}
