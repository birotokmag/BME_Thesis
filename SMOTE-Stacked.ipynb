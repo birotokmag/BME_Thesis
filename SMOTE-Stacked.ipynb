{
 "cells": [
  {
   "cell_type": "code",
   "execution_count": 1,
   "metadata": {},
   "outputs": [],
   "source": [
    "import pandas as pd\n",
    "import numpy as np\n",
    "import matplotlib.pyplot as plt\n",
    "from sklearn.decomposition import PCA\n",
    "from tslearn.clustering import TimeSeriesKMeans\n",
    "from sklearn.preprocessing import StandardScaler\n",
    "from tslearn.preprocessing import TimeSeriesScalerMeanVariance\n",
    "from sklearn.model_selection import train_test_split, KFold\n",
    "from sklearn.ensemble import GradientBoostingClassifier, RandomForestClassifier\n",
    "from sklearn import metrics\n",
    "from sklearn.model_selection import GridSearchCV as gscv\n",
    "from sklearn.svm import SVC\n",
    "from sklearn.linear_model import LogisticRegression\n",
    "from sklearn.naive_bayes import GaussianNB\n",
    "from imblearn.over_sampling import SMOTE\n",
    "from sklearn.model_selection import train_test_split\n",
    "import joblib\n",
    "from sklearn.ensemble import StackingClassifier, VotingClassifier"
   ]
  },
  {
   "cell_type": "code",
   "execution_count": 2,
   "metadata": {},
   "outputs": [
    {
     "name": "stderr",
     "output_type": "stream",
     "text": [
      "<ipython-input-2-6e81f529eb55>:18: PerformanceWarning: DataFrame is highly fragmented.  This is usually the result of calling `frame.insert` many times, which has poor performance.  Consider joining all columns at once using pd.concat(axis=1) instead.  To get a de-fragmented frame, use `newframe = frame.copy()`\n",
      "  ratios[y+i+\"mf\"] = df[y+i]/df[y+\"TAH061\"]\n",
      "<ipython-input-2-6e81f529eb55>:20: PerformanceWarning: DataFrame is highly fragmented.  This is usually the result of calling `frame.insert` many times, which has poor performance.  Consider joining all columns at once using pd.concat(axis=1) instead.  To get a de-fragmented frame, use `newframe = frame.copy()`\n",
      "  ratios[y+i+\"liab\"] = df[y+i]/(df[y+\"TAH051\"]+df[y+\"TAH054\"])\n",
      "<ipython-input-2-6e81f529eb55>:22: PerformanceWarning: DataFrame is highly fragmented.  This is usually the result of calling `frame.insert` many times, which has poor performance.  Consider joining all columns at once using pd.concat(axis=1) instead.  To get a de-fragmented frame, use `newframe = frame.copy()`\n",
      "  ratios[y+i+\"toke\"] = df[y+i]/(df[y+\"TAH001\"]+df[y+\"TAH012\"]+df[y+\"TAH048\"]+df[y+\"TAH189\"]+df[y+\"TAH208\"]+df[y+\"TAH060\"]+df[y+\"TAH179\"]+df[y+\"TAH187\"]+df[y+\"TAH059\"])\n",
      "<ipython-input-2-6e81f529eb55>:24: PerformanceWarning: DataFrame is highly fragmented.  This is usually the result of calling `frame.insert` many times, which has poor performance.  Consider joining all columns at once using pd.concat(axis=1) instead.  To get a de-fragmented frame, use `newframe = frame.copy()`\n",
      "  ratios[y+i+\"kolt\"] = df[y+i]/(df[y+\"TAC002\"]+df[y+\"TAC006\"]-df[y+\"TAC019\"])\n",
      "<ipython-input-2-6e81f529eb55>:16: PerformanceWarning: DataFrame is highly fragmented.  This is usually the result of calling `frame.insert` many times, which has poor performance.  Consider joining all columns at once using pd.concat(axis=1) instead.  To get a de-fragmented frame, use `newframe = frame.copy()`\n",
      "  ratios[y+i+\"arbev\"] = df[y+i]/df[y+\"TAC002\"]\n",
      "<ipython-input-2-6e81f529eb55>:34: PerformanceWarning: DataFrame is highly fragmented.  This is usually the result of calling `frame.insert` many times, which has poor performance.  Consider joining all columns at once using pd.concat(axis=1) instead.  To get a de-fragmented frame, use `newframe = frame.copy()`\n",
      "  cRatios[str(y)+\"c\"+str(y+1)+i+\"mf\"] = (ratios[str(y+1)+i+\"mf\"]-ratios[str(y)+i+\"mf\"])/ratios[str(y)+i+\"mf\"]\n",
      "<ipython-input-2-6e81f529eb55>:36: PerformanceWarning: DataFrame is highly fragmented.  This is usually the result of calling `frame.insert` many times, which has poor performance.  Consider joining all columns at once using pd.concat(axis=1) instead.  To get a de-fragmented frame, use `newframe = frame.copy()`\n",
      "  cRatios[str(y)+\"c\"+str(y+1)+i+\"liab\"] = (ratios[str(y+1)+i+\"liab\"]-ratios[str(y)+i+\"liab\"])/ratios[str(y)+i+\"liab\"]\n",
      "<ipython-input-2-6e81f529eb55>:38: PerformanceWarning: DataFrame is highly fragmented.  This is usually the result of calling `frame.insert` many times, which has poor performance.  Consider joining all columns at once using pd.concat(axis=1) instead.  To get a de-fragmented frame, use `newframe = frame.copy()`\n",
      "  cRatios[str(y)+\"c\"+str(y+1)+i+\"toke\"] = (ratios[str(y+1)+i+\"toke\"]-ratios[str(y)+i+\"toke\"])/ratios[str(y)+i+\"toke\"]\n",
      "<ipython-input-2-6e81f529eb55>:40: PerformanceWarning: DataFrame is highly fragmented.  This is usually the result of calling `frame.insert` many times, which has poor performance.  Consider joining all columns at once using pd.concat(axis=1) instead.  To get a de-fragmented frame, use `newframe = frame.copy()`\n",
      "  cRatios[str(y)+\"c\"+str(y+1)+i+\"kolt\"] = (ratios[str(y+1)+i+\"kolt\"]-ratios[str(y)+i+\"kolt\"])/ratios[str(y)+i+\"kolt\"]\n",
      "<ipython-input-2-6e81f529eb55>:32: PerformanceWarning: DataFrame is highly fragmented.  This is usually the result of calling `frame.insert` many times, which has poor performance.  Consider joining all columns at once using pd.concat(axis=1) instead.  To get a de-fragmented frame, use `newframe = frame.copy()`\n",
      "  cRatios[str(y)+\"c\"+str(y+1)+i+\"arbev\"] = (ratios[str(y+1)+i+\"arbev\"]-ratios[str(y)+i+\"arbev\"])/ratios[str(y)+i+\"arbev\"]\n"
     ]
    }
   ],
   "source": [
    "nCluster=8\n",
    "df = pd.read_pickle(\"data/dataframe\")\n",
    "yearsString = [\"14\", \"15\", \"16\", \"17\", \"18\", \"19\", \"20\"]\n",
    "arbevetel = [\"TAH197\"]\n",
    "koltseg = [\"TAC008\",\n",
    "\"TAC009\",\"TAC011\",\"TAC010\",\"TAC078\",\"TAH014\",\"TAH015\",\"TAC012\",\"TAC013\",\"TAC014\",\"TAC015\",\"TAC016\",\"TAC018\",\"TAC063\",\"TAH021\",\"TAC109\",\"TAC190\",\"TAC059\",\"TAB024\",\"TAH197\"]\n",
    "merlegfoosszeg=[\"TAH186\",\n",
    "\"TAH230\",\"TAH033\",\"TAH087\",\"TAH088\",\"TAH041\",\"TAH042\",\"TAH231\",\"TAH043\",\"TAH044\",\"TAH232\",\"TAH045\", \"TAH187\", \"TAI001\",\n",
    "\"TAI002\",\"TAI019\",\"TAI020\",\"TAI022\",\"TAI023\",\"TAI041\",\"TAI042\",\"TAI043\",\"TAI044\",\"TAI033\",\"TAH034\",\"TAI045\",\"TAI046\",\"TAI035\",\"TAI047\",\"TAI048\",\"TAI036\",\"TAI049\",\"TAI050\",\"TAI037\",\"TAI051\",\"TAI052\",\"TAI053\",\"TAI054\",\"TAI055\",\"TAI056\",\"TAI057\",\"TAH190\",\"TAI038\",\"TAI058\", \"TAB024\",\"TAH197\"]\n",
    "liabilities = [\"TAH209\",\"TAH051\",\"TAH227\",\"TAH054\",\"TAH055\",\"TAH180\",\"TAH199\"]\n",
    "toke = [\"TAH002\",\"TAH003\",\"TAH004\",\"TAH005\",\"TAH011\",\"TAH007\",\"TAH233\",\"TAH234\",\"TAH012\",\"TAH048\",\"TAH189\",\"TAH208\",\"TAH060\",\"TAH179\",\"TAH187\"]\n",
    "\n",
    "ratios = pd.DataFrame()\n",
    "for y in yearsString:\n",
    "    for i in arbevetel:\n",
    "        ratios[y+i+\"arbev\"] = df[y+i]/df[y+\"TAC002\"]\n",
    "    for i in merlegfoosszeg:\n",
    "        ratios[y+i+\"mf\"] = df[y+i]/df[y+\"TAH061\"]\n",
    "    for i in liabilities:\n",
    "        ratios[y+i+\"liab\"] = df[y+i]/(df[y+\"TAH051\"]+df[y+\"TAH054\"])\n",
    "    for i in toke:\n",
    "        ratios[y+i+\"toke\"] = df[y+i]/(df[y+\"TAH001\"]+df[y+\"TAH012\"]+df[y+\"TAH048\"]+df[y+\"TAH189\"]+df[y+\"TAH208\"]+df[y+\"TAH060\"]+df[y+\"TAH179\"]+df[y+\"TAH187\"]+df[y+\"TAH059\"])\n",
    "    for i in koltseg:\n",
    "        ratios[y+i+\"kolt\"] = df[y+i]/(df[y+\"TAC002\"]+df[y+\"TAC006\"]-df[y+\"TAC019\"])\n",
    "ratios = ratios.replace(np.inf, 0)\n",
    "ratios = ratios.replace(-np.inf, 0)        \n",
    "ratios.fillna(0, inplace=True)\n",
    "        \n",
    "cRatios = pd.DataFrame()\n",
    "for y in range(14, 20):\n",
    "    for i in arbevetel:\n",
    "        cRatios[str(y)+\"c\"+str(y+1)+i+\"arbev\"] = (ratios[str(y+1)+i+\"arbev\"]-ratios[str(y)+i+\"arbev\"])/ratios[str(y)+i+\"arbev\"]\n",
    "    for i in merlegfoosszeg:\n",
    "        cRatios[str(y)+\"c\"+str(y+1)+i+\"mf\"] = (ratios[str(y+1)+i+\"mf\"]-ratios[str(y)+i+\"mf\"])/ratios[str(y)+i+\"mf\"]\n",
    "    for i in liabilities:\n",
    "        cRatios[str(y)+\"c\"+str(y+1)+i+\"liab\"] = (ratios[str(y+1)+i+\"liab\"]-ratios[str(y)+i+\"liab\"])/ratios[str(y)+i+\"liab\"]\n",
    "    for i in toke:\n",
    "        cRatios[str(y)+\"c\"+str(y+1)+i+\"toke\"] = (ratios[str(y+1)+i+\"toke\"]-ratios[str(y)+i+\"toke\"])/ratios[str(y)+i+\"toke\"]\n",
    "    for i in koltseg:\n",
    "        cRatios[str(y)+\"c\"+str(y+1)+i+\"kolt\"] = (ratios[str(y+1)+i+\"kolt\"]-ratios[str(y)+i+\"kolt\"])/ratios[str(y)+i+\"kolt\"]\n",
    "\n",
    "cRatios = cRatios.replace(np.inf, 0)\n",
    "cRatios = cRatios.replace(-np.inf, 0)        \n",
    "cRatios.fillna(0, inplace=True)\n",
    "\n",
    "prodInTime = pd.DataFrame()\n",
    "for i in range(14, 21): \n",
    "    prodInTime[str(i)] = df[str(i)+\"Productivity\"]\n",
    "prodInTime = TimeSeriesScalerMeanVariance().fit_transform(prodInTime)\n",
    "\n",
    "timeSeriesClusterModel = TimeSeriesKMeans(n_clusters=nCluster, metric=\"dtw\", max_iter=10, random_state=15)\n",
    "timeSeriesClusterModel.fit(prodInTime)\n",
    "targetLabels = timeSeriesClusterModel.predict(prodInTime)"
   ]
  },
  {
   "cell_type": "code",
   "execution_count": 4,
   "metadata": {},
   "outputs": [],
   "source": [
    "ctrainX = []\n",
    "ctrainY = []\n",
    "cstackX = []\n",
    "cstackY = []\n",
    "ctestX = []\n",
    "ctestY = []\n",
    "for c in range(0, nCluster):\n",
    "    cRatiosMask = np.load(\"cRatiosRFEMaskC\"+str(c)+\".npy\")\n",
    "    cRatiosCluster = cRatios[cRatios.columns[cRatiosMask]]\n",
    "    train_X, rem_X, train_Y, rem_Y = train_test_split(cRatiosCluster, targetLabels == c, test_size=0.5, random_state=42)\n",
    "    stack_X, test_X, stack_Y, test_Y = train_test_split(rem_X, rem_Y, test_size=0.3, random_state=42)\n",
    "    ctrainX.append(train_X)\n",
    "    ctrainY.append(train_Y)\n",
    "    cstackX.append(stack_X)\n",
    "    cstackY.append(stack_Y)\n",
    "    ctestX.append(test_X)\n",
    "    ctestY.append(test_Y)"
   ]
  },
  {
   "cell_type": "code",
   "execution_count": 5,
   "metadata": {},
   "outputs": [],
   "source": [
    "ntrainX = []\n",
    "ntrainY = []\n",
    "nstackX = []\n",
    "nstackY = []\n",
    "ntestX = []\n",
    "ntestY = []\n",
    "for c in range(0, nCluster):\n",
    "    ratiosMask = np.load(\"ratiosRFEMaskC\"+str(c)+\".npy\")\n",
    "    ratiosCluster = ratios[ratios.columns[ratiosMask]]\n",
    "    train_X, rem_X, train_Y, rem_Y = train_test_split(ratiosCluster, targetLabels == c, test_size=0.5, random_state=42)\n",
    "    stack_X, test_X, stack_Y, test_Y = train_test_split(rem_X, rem_Y, test_size=0.3, random_state=42)\n",
    "    ntrainX.append(train_X)\n",
    "    ntrainY.append(train_Y)\n",
    "    nstackX.append(stack_X)\n",
    "    nstackY.append(stack_Y)\n",
    "    ntestX.append(test_X)\n",
    "    ntestY.append(test_Y)"
   ]
  },
  {
   "cell_type": "code",
   "execution_count": 20,
   "metadata": {},
   "outputs": [
    {
     "name": "stderr",
     "output_type": "stream",
     "text": [
      "C:\\Users\\Akos\\anaconda3\\lib\\site-packages\\sklearn\\linear_model\\_sag.py:350: ConvergenceWarning: The max_iter was reached which means the coef_ did not converge\n",
      "  warnings.warn(\n"
     ]
    },
    {
     "name": "stdout",
     "output_type": "stream",
     "text": [
      "[[ 482  223]\n",
      " [ 374 1002]]\n",
      "0.7704728950403691\n"
     ]
    }
   ],
   "source": [
    "ratiosMask = np.load(\"ratiosRFEMask.npy\")\n",
    "ratiosCluster = ratios[ratios.columns[ratiosMask]]\n",
    "tL = np.logical_or(np.logical_or(targetLabels == 4, targetLabels == 7), np.logical_or(targetLabels == 3, targetLabels == 1))\n",
    "train_X, rem_X, train_Y, rem_Y = train_test_split(ratiosCluster, tL, test_size=0.5, random_state=42)\n",
    "stack_X, test_X, stack_Y, test_Y = train_test_split(rem_X, rem_Y, test_size=0.3, random_state=42)\n",
    "sm = SMOTE(random_state=42)\n",
    "x_res, y_res = sm.fit_resample(train_X, train_Y)\n",
    "gbc = GradientBoostingClassifier(max_depth = 12, n_estimators = 45)\n",
    "gbc.fit(x_res, y_res)\n",
    "rfc = RandomForestClassifier(max_depth = 14, n_estimators = 40)\n",
    "rfc.fit(x_res, y_res)\n",
    "lrm = LogisticRegression(solver='saga', C=4.5, max_iter=5000)\n",
    "lrm.fit(x_res, y_res)\n",
    "sm = SMOTE(random_state=42)\n",
    "x_res, y_res = sm.fit_resample(stack_X, stack_Y)\n",
    "estimators = [\n",
    "        ('gbc', gbc),\n",
    "        ('rf', rfc),\n",
    "        ('lr', lrm) ]\n",
    "stackingModel = StackingClassifier(estimators=estimators, final_estimator=LogisticRegression(max_iter=10000), cv='prefit', passthrough = True)\n",
    "stackingModel.fit(x_res, y_res)\n",
    "print(metrics.confusion_matrix(test_Y, stackingModel.predict(test_X)))\n",
    "print(metrics.f1_score(test_Y, stackingModel.predict(test_X)))"
   ]
  },
  {
   "cell_type": "code",
   "execution_count": 18,
   "metadata": {},
   "outputs": [
    {
     "name": "stderr",
     "output_type": "stream",
     "text": [
      "C:\\Users\\Akos\\anaconda3\\lib\\site-packages\\sklearn\\linear_model\\_sag.py:350: ConvergenceWarning: The max_iter was reached which means the coef_ did not converge\n",
      "  warnings.warn(\n"
     ]
    },
    {
     "name": "stdout",
     "output_type": "stream",
     "text": [
      "[[ 409  296]\n",
      " [ 278 1098]]\n",
      "0.7927797833935019\n"
     ]
    },
    {
     "name": "stderr",
     "output_type": "stream",
     "text": [
      "C:\\Users\\Akos\\anaconda3\\lib\\site-packages\\sklearn\\linear_model\\_sag.py:350: ConvergenceWarning: The max_iter was reached which means the coef_ did not converge\n",
      "  warnings.warn(\n"
     ]
    }
   ],
   "source": [
    "ratiosMask = np.load(\"ratiosRFEMask.npy\")\n",
    "ratiosCluster = ratios[ratios.columns[ratiosMask]]\n",
    "tL = np.logical_or(np.logical_or(targetLabels == 4, targetLabels == 7), np.logical_or(targetLabels == 3, targetLabels == 1))\n",
    "train_X, rem_X, train_Y, rem_Y = train_test_split(ratiosCluster, tL, test_size=0.5, random_state=42)\n",
    "stack_X, test_X, stack_Y, test_Y = train_test_split(rem_X, rem_Y, test_size=0.3, random_state=42)\n",
    "sm = SMOTE(random_state=42)\n",
    "x_res, y_res = sm.fit_resample(train_X, train_Y)\n",
    "gbc = GradientBoostingClassifier(max_depth = 12, n_estimators = 45)\n",
    "gbc.fit(x_res, y_res)\n",
    "rfc = RandomForestClassifier(max_depth = 14, n_estimators = 40)\n",
    "rfc.fit(x_res, y_res)\n",
    "lrm = LogisticRegression(solver='saga', C=4, max_iter=5000)\n",
    "lrm.fit(x_res, y_res)\n",
    "sm = SMOTE(random_state=42)\n",
    "x_res, y_res = sm.fit_resample(stack_X, stack_Y)\n",
    "estimators = [\n",
    "        ('gbc', gbc),\n",
    "        ('rf', rfc),\n",
    "        ('lr', lrm) ]\n",
    "stackingModel = VotingClassifier(estimators=estimators, voting='soft')\n",
    "stackingModel.fit(x_res, y_res)\n",
    "print(metrics.confusion_matrix(test_Y, stackingModel.predict(test_X)))\n",
    "print(metrics.f1_score(test_Y, stackingModel.predict(test_X)))"
   ]
  },
  {
   "cell_type": "code",
   "execution_count": 21,
   "metadata": {},
   "outputs": [
    {
     "data": {
      "text/plain": [
       "<sklearn.metrics._plot.roc_curve.RocCurveDisplay at 0x1148d6dfee0>"
      ]
     },
     "execution_count": 21,
     "metadata": {},
     "output_type": "execute_result"
    },
    {
     "data": {
      "image/png": "[encoded data removed]",
      "text/plain": [
       "<Figure size 432x288 with 1 Axes>"
      ]
     },
     "metadata": {
      "needs_background": "light"
     },
     "output_type": "display_data"
    }
   ],
   "source": [
    "metrics.RocCurveDisplay.from_predictions(test_Y, stackingModel.predict_proba(test_X)[:, 1])"
   ]
  },
  {
   "cell_type": "markdown",
   "metadata": {},
   "source": [
    "# Gradient Boosting with SMOTE, change values, RFE"
   ]
  },
  {
   "cell_type": "code",
   "execution_count": 7,
   "metadata": {},
   "outputs": [],
   "source": [
    "gradientResultSmote=joblib.load(\"gradientResultSMOTE.pkl\")\n",
    "gradientModels = []\n",
    "for c in range(0, nCluster):\n",
    "    sm = SMOTE(random_state=42)\n",
    "    x_res, y_res = sm.fit_resample(ctrainX[c], ctrainY[c])\n",
    "    parameters = gradientResultSmote[c].best_params_\n",
    "    gbc = GradientBoostingClassifier(**parameters)\n",
    "    gbc.fit(x_res, y_res)\n",
    "    gradientModels.append(gbc)"
   ]
  },
  {
   "cell_type": "markdown",
   "metadata": {},
   "source": [
    "# Random Forest with SMOTE, change values, RFE"
   ]
  },
  {
   "cell_type": "code",
   "execution_count": 9,
   "metadata": {},
   "outputs": [],
   "source": [
    "randomForestResultSmote=joblib.load(\"randomForestResultSMOTE.pkl\")\n",
    "rfModels = []\n",
    "for c in range(0, nCluster):\n",
    "    sm = SMOTE(random_state=42)\n",
    "    x_res, y_res = sm.fit_resample(ctrainX[c], ctrainY[c])\n",
    "    parameters = randomForestResultSmote[c].best_params_\n",
    "    rfc = RandomForestClassifier(**parameters)\n",
    "    rfc.fit(x_res, y_res)\n",
    "    rfModels.append(rfc)"
   ]
  },
  {
   "cell_type": "markdown",
   "metadata": {},
   "source": [
    "# Logistic regression with SMOTE, change values, RFE"
   ]
  },
  {
   "cell_type": "code",
   "execution_count": 14,
   "metadata": {
    "scrolled": true
   },
   "outputs": [
    {
     "name": "stderr",
     "output_type": "stream",
     "text": [
      "C:\\Users\\Akos\\anaconda3\\lib\\site-packages\\sklearn\\linear_model\\_sag.py:350: ConvergenceWarning: The max_iter was reached which means the coef_ did not converge\n",
      "  warnings.warn(\n",
      "C:\\Users\\Akos\\anaconda3\\lib\\site-packages\\sklearn\\linear_model\\_sag.py:350: ConvergenceWarning: The max_iter was reached which means the coef_ did not converge\n",
      "  warnings.warn(\n",
      "C:\\Users\\Akos\\anaconda3\\lib\\site-packages\\sklearn\\linear_model\\_logistic.py:1113: UserWarning: Setting penalty='none' will ignore the C and l1_ratio parameters\n",
      "  warnings.warn(\n",
      "C:\\Users\\Akos\\anaconda3\\lib\\site-packages\\sklearn\\linear_model\\_sag.py:350: ConvergenceWarning: The max_iter was reached which means the coef_ did not converge\n",
      "  warnings.warn(\n",
      "C:\\Users\\Akos\\anaconda3\\lib\\site-packages\\sklearn\\linear_model\\_sag.py:350: ConvergenceWarning: The max_iter was reached which means the coef_ did not converge\n",
      "  warnings.warn(\n",
      "C:\\Users\\Akos\\anaconda3\\lib\\site-packages\\sklearn\\linear_model\\_sag.py:350: ConvergenceWarning: The max_iter was reached which means the coef_ did not converge\n",
      "  warnings.warn(\n",
      "C:\\Users\\Akos\\anaconda3\\lib\\site-packages\\sklearn\\linear_model\\_sag.py:350: ConvergenceWarning: The max_iter was reached which means the coef_ did not converge\n",
      "  warnings.warn(\n"
     ]
    }
   ],
   "source": [
    "lrResultSmote=joblib.load(\"lrResultSMOTE.pkl\")\n",
    "lrModels = []\n",
    "for c in range(0, nCluster):\n",
    "    sm = SMOTE(random_state=42)\n",
    "    x_res, y_res = sm.fit_resample(ctrainX[c], ctrainY[c])\n",
    "    parameters = lrResultSmote[c].best_params_\n",
    "    lrm = LogisticRegression(solver='saga', **parameters, max_iter=5000)\n",
    "    lrm.fit(x_res, y_res)\n",
    "    lrModels.append(lrm)"
   ]
  },
  {
   "cell_type": "code",
   "execution_count": 46,
   "metadata": {},
   "outputs": [
    {
     "name": "stderr",
     "output_type": "stream",
     "text": [
      "C:\\Users\\Akos\\anaconda3\\lib\\site-packages\\sklearn\\linear_model\\_logistic.py:444: ConvergenceWarning: lbfgs failed to converge (status=1):\n",
      "STOP: TOTAL NO. of ITERATIONS REACHED LIMIT.\n",
      "\n",
      "Increase the number of iterations (max_iter) or scale the data as shown in:\n",
      "    https://scikit-learn.org/stable/modules/preprocessing.html\n",
      "Please also refer to the documentation for alternative solver options:\n",
      "    https://scikit-learn.org/stable/modules/linear_model.html#logistic-regression\n",
      "  n_iter_i = _check_optimize_result(\n",
      "C:\\Users\\Akos\\anaconda3\\lib\\site-packages\\sklearn\\linear_model\\_logistic.py:444: ConvergenceWarning: lbfgs failed to converge (status=1):\n",
      "STOP: TOTAL NO. of ITERATIONS REACHED LIMIT.\n",
      "\n",
      "Increase the number of iterations (max_iter) or scale the data as shown in:\n",
      "    https://scikit-learn.org/stable/modules/preprocessing.html\n",
      "Please also refer to the documentation for alternative solver options:\n",
      "    https://scikit-learn.org/stable/modules/linear_model.html#logistic-regression\n",
      "  n_iter_i = _check_optimize_result(\n",
      "C:\\Users\\Akos\\anaconda3\\lib\\site-packages\\sklearn\\linear_model\\_logistic.py:444: ConvergenceWarning: lbfgs failed to converge (status=1):\n",
      "STOP: TOTAL NO. of ITERATIONS REACHED LIMIT.\n",
      "\n",
      "Increase the number of iterations (max_iter) or scale the data as shown in:\n",
      "    https://scikit-learn.org/stable/modules/preprocessing.html\n",
      "Please also refer to the documentation for alternative solver options:\n",
      "    https://scikit-learn.org/stable/modules/linear_model.html#logistic-regression\n",
      "  n_iter_i = _check_optimize_result(\n",
      "C:\\Users\\Akos\\anaconda3\\lib\\site-packages\\sklearn\\linear_model\\_logistic.py:444: ConvergenceWarning: lbfgs failed to converge (status=1):\n",
      "STOP: TOTAL NO. of ITERATIONS REACHED LIMIT.\n",
      "\n",
      "Increase the number of iterations (max_iter) or scale the data as shown in:\n",
      "    https://scikit-learn.org/stable/modules/preprocessing.html\n",
      "Please also refer to the documentation for alternative solver options:\n",
      "    https://scikit-learn.org/stable/modules/linear_model.html#logistic-regression\n",
      "  n_iter_i = _check_optimize_result(\n",
      "C:\\Users\\Akos\\anaconda3\\lib\\site-packages\\sklearn\\linear_model\\_logistic.py:444: ConvergenceWarning: lbfgs failed to converge (status=1):\n",
      "STOP: TOTAL NO. of ITERATIONS REACHED LIMIT.\n",
      "\n",
      "Increase the number of iterations (max_iter) or scale the data as shown in:\n",
      "    https://scikit-learn.org/stable/modules/preprocessing.html\n",
      "Please also refer to the documentation for alternative solver options:\n",
      "    https://scikit-learn.org/stable/modules/linear_model.html#logistic-regression\n",
      "  n_iter_i = _check_optimize_result(\n"
     ]
    }
   ],
   "source": [
    "stackingClass = []\n",
    "stackingVote = []\n",
    "for c in range(0, nCluster):\n",
    "    sm = SMOTE(random_state=42)\n",
    "    x_res, y_res = sm.fit_resample(cstackX[c], cstackY[c])\n",
    "    estimators = [\n",
    "        ('gbc', gradientModels[c]),\n",
    "        ('rf', rfModels[c]),\n",
    "        ('lr', lrModels[c]) ]\n",
    "    stackingModel = StackingClassifier(estimators=estimators, final_estimator=LogisticRegression(max_iter=5000), cv='prefit', passthrough = True)\n",
    "    stackingClass.append(stackingModel.fit(x_res, y_res))"
   ]
  },
  {
   "cell_type": "code",
   "execution_count": 47,
   "metadata": {},
   "outputs": [
    {
     "name": "stdout",
     "output_type": "stream",
     "text": [
      "0\n",
      "[[1476  437]\n",
      " [  83   85]]\n",
      "0.24637681159420288\n",
      "--------------\n",
      "1\n",
      "[[1376  487]\n",
      " [ 153   65]]\n",
      "0.16883116883116883\n",
      "--------------\n",
      "2\n",
      "[[1411  487]\n",
      " [ 101   82]]\n",
      "0.2180851063829787\n",
      "--------------\n",
      "3\n",
      "[[1352  456]\n",
      " [ 190   83]]\n",
      "0.2044334975369458\n",
      "--------------\n",
      "4\n",
      "[[1240  466]\n",
      " [ 196  179]]\n",
      "0.3509803921568628\n",
      "--------------\n",
      "5\n",
      "[[1461  456]\n",
      " [  85   79]]\n",
      "0.22603719599427752\n",
      "--------------\n",
      "6\n",
      "[[1515  376]\n",
      " [ 118   72]]\n",
      "0.225705329153605\n",
      "--------------\n",
      "7\n",
      "[[1149  422]\n",
      " [ 237  273]]\n",
      "0.4531120331950207\n",
      "--------------\n"
     ]
    }
   ],
   "source": [
    "for c in range(0, nCluster):\n",
    "    print(c)\n",
    "    print(metrics.confusion_matrix(ctestY[c], stackingClass[c].predict(ctestX[c])))\n",
    "    print(metrics.f1_score(ctestY[c], stackingClass[c].predict(ctestX[c])))\n",
    "    print(\"--------------\")"
   ]
  },
  {
   "cell_type": "code",
   "execution_count": 60,
   "metadata": {},
   "outputs": [
    {
     "name": "stderr",
     "output_type": "stream",
     "text": [
      "C:\\Users\\Akos\\anaconda3\\lib\\site-packages\\sklearn\\linear_model\\_sag.py:350: ConvergenceWarning: The max_iter was reached which means the coef_ did not converge\n",
      "  warnings.warn(\n",
      "C:\\Users\\Akos\\anaconda3\\lib\\site-packages\\sklearn\\linear_model\\_sag.py:350: ConvergenceWarning: The max_iter was reached which means the coef_ did not converge\n",
      "  warnings.warn(\n",
      "C:\\Users\\Akos\\anaconda3\\lib\\site-packages\\sklearn\\linear_model\\_logistic.py:1113: UserWarning: Setting penalty='none' will ignore the C and l1_ratio parameters\n",
      "  warnings.warn(\n",
      "C:\\Users\\Akos\\anaconda3\\lib\\site-packages\\sklearn\\linear_model\\_sag.py:350: ConvergenceWarning: The max_iter was reached which means the coef_ did not converge\n",
      "  warnings.warn(\n",
      "C:\\Users\\Akos\\anaconda3\\lib\\site-packages\\sklearn\\linear_model\\_sag.py:350: ConvergenceWarning: The max_iter was reached which means the coef_ did not converge\n",
      "  warnings.warn(\n",
      "C:\\Users\\Akos\\anaconda3\\lib\\site-packages\\sklearn\\linear_model\\_sag.py:350: ConvergenceWarning: The max_iter was reached which means the coef_ did not converge\n",
      "  warnings.warn(\n",
      "C:\\Users\\Akos\\anaconda3\\lib\\site-packages\\sklearn\\linear_model\\_sag.py:350: ConvergenceWarning: The max_iter was reached which means the coef_ did not converge\n",
      "  warnings.warn(\n"
     ]
    }
   ],
   "source": [
    "stackingVote = []\n",
    "for c in range(0, nCluster):\n",
    "    sm = SMOTE(random_state=42)\n",
    "    x_res, y_res = sm.fit_resample(ctrainX[c], ctrainY[c])\n",
    "    voteModel = VotingClassifier(estimators = [\n",
    "        ('gbc', gradientModels[c]),\n",
    "        ('rf', rfModels[c]),\n",
    "        ('lr', lrModels[c]),\n",
    "        ('nb', GaussianNB())], voting='hard')\n",
    "    stackingVote.append(voteModel.fit(x_res, y_res))"
   ]
  },
  {
   "cell_type": "code",
   "execution_count": 61,
   "metadata": {},
   "outputs": [
    {
     "name": "stdout",
     "output_type": "stream",
     "text": [
      "0\n",
      "[[1576  337]\n",
      " [  95   73]]\n",
      "0.2525951557093426\n",
      "--------------\n",
      "1\n",
      "[[1539  324]\n",
      " [ 187   31]]\n",
      "0.10820244328097732\n",
      "--------------\n",
      "2\n",
      "[[1497  401]\n",
      " [ 110   73]]\n",
      "0.2222222222222222\n",
      "--------------\n",
      "3\n",
      "[[1532  276]\n",
      " [ 222   51]]\n",
      "0.17\n",
      "--------------\n",
      "4\n",
      "[[1261  445]\n",
      " [ 185  190]]\n",
      "0.3762376237623763\n",
      "--------------\n",
      "5\n",
      "[[1553  364]\n",
      " [ 101   63]]\n",
      "0.21319796954314718\n",
      "--------------\n",
      "6\n",
      "[[1623  268]\n",
      " [ 137   53]]\n",
      "0.20743639921722112\n",
      "--------------\n",
      "7\n",
      "[[1197  374]\n",
      " [ 264  246]]\n",
      "0.4353982300884956\n",
      "--------------\n"
     ]
    }
   ],
   "source": [
    "for c in range(0, nCluster):\n",
    "    print(c)\n",
    "    print(metrics.confusion_matrix(ctestY[c], stackingVote[c].predict(ctestX[c])))\n",
    "    print(metrics.f1_score(ctestY[c], stackingVote[c].predict(ctestX[c])))\n",
    "    print(\"--------------\")"
   ]
  },
  {
   "cell_type": "code",
   "execution_count": 13,
   "metadata": {},
   "outputs": [
    {
     "data": {
      "text/plain": [
       "['lrResultSMOTE.pkl']"
      ]
     },
     "execution_count": 13,
     "metadata": {},
     "output_type": "execute_result"
    }
   ],
   "source": [
    "joblib.dump(stackedModelsC, \"stackedModelsC.pkl\")"
   ]
  },
  {
   "cell_type": "markdown",
   "metadata": {},
   "source": [
    "# GradientBoosting with SMOTE nominal values RFE"
   ]
  },
  {
   "cell_type": "code",
   "execution_count": 50,
   "metadata": {},
   "outputs": [],
   "source": [
    "gradientResultSmoteN=joblib.load(\"gradientResultSMOTEN.pkl\")\n",
    "gradientModelsN = []\n",
    "for c in range(0, nCluster):\n",
    "    sm = SMOTE(random_state=42)\n",
    "    x_res, y_res = sm.fit_resample(ntrainX[c], ntrainY[c])\n",
    "    parameters = gradientResultSmoteN[c].best_params_\n",
    "    gbc = GradientBoostingClassifier(**parameters)\n",
    "    gbc.fit(x_res, y_res)\n",
    "    gradientModelsN.append(gbc)"
   ]
  },
  {
   "cell_type": "markdown",
   "metadata": {},
   "source": [
    "# RandomForest with SMOTE nominal values RFE"
   ]
  },
  {
   "cell_type": "code",
   "execution_count": 56,
   "metadata": {},
   "outputs": [],
   "source": [
    "randomForestResultSmoteN=joblib.load(\"randomForestResultCSMOTEN.pkl\")\n",
    "rfModelsN = []\n",
    "for c in range(0, nCluster):\n",
    "    sm = SMOTE(random_state=42)\n",
    "    x_res, y_res = sm.fit_resample(ntrainX[c], ntrainY[c])\n",
    "    parameters = randomForestResultSmoteN[c].best_params_\n",
    "    rfc = RandomForestClassifier(**parameters)\n",
    "    rfc.fit(x_res, y_res)\n",
    "    rfModelsN.append(rfc)"
   ]
  },
  {
   "cell_type": "code",
   "execution_count": 57,
   "metadata": {},
   "outputs": [
    {
     "name": "stderr",
     "output_type": "stream",
     "text": [
      "C:\\Users\\Akos\\anaconda3\\lib\\site-packages\\sklearn\\linear_model\\_sag.py:350: ConvergenceWarning: The max_iter was reached which means the coef_ did not converge\n",
      "  warnings.warn(\n",
      "C:\\Users\\Akos\\anaconda3\\lib\\site-packages\\sklearn\\linear_model\\_sag.py:350: ConvergenceWarning: The max_iter was reached which means the coef_ did not converge\n",
      "  warnings.warn(\n",
      "C:\\Users\\Akos\\anaconda3\\lib\\site-packages\\sklearn\\linear_model\\_sag.py:350: ConvergenceWarning: The max_iter was reached which means the coef_ did not converge\n",
      "  warnings.warn(\n",
      "C:\\Users\\Akos\\anaconda3\\lib\\site-packages\\sklearn\\linear_model\\_sag.py:350: ConvergenceWarning: The max_iter was reached which means the coef_ did not converge\n",
      "  warnings.warn(\n",
      "C:\\Users\\Akos\\anaconda3\\lib\\site-packages\\sklearn\\linear_model\\_logistic.py:1113: UserWarning: Setting penalty='none' will ignore the C and l1_ratio parameters\n",
      "  warnings.warn(\n",
      "C:\\Users\\Akos\\anaconda3\\lib\\site-packages\\sklearn\\linear_model\\_sag.py:350: ConvergenceWarning: The max_iter was reached which means the coef_ did not converge\n",
      "  warnings.warn(\n",
      "C:\\Users\\Akos\\anaconda3\\lib\\site-packages\\sklearn\\linear_model\\_sag.py:350: ConvergenceWarning: The max_iter was reached which means the coef_ did not converge\n",
      "  warnings.warn(\n",
      "C:\\Users\\Akos\\anaconda3\\lib\\site-packages\\sklearn\\linear_model\\_sag.py:350: ConvergenceWarning: The max_iter was reached which means the coef_ did not converge\n",
      "  warnings.warn(\n",
      "C:\\Users\\Akos\\anaconda3\\lib\\site-packages\\sklearn\\linear_model\\_sag.py:350: ConvergenceWarning: The max_iter was reached which means the coef_ did not converge\n",
      "  warnings.warn(\n"
     ]
    }
   ],
   "source": [
    "lrResultSmoteN=joblib.load(\"lrResultCSMOTEN.pkl\")\n",
    "lrModelsN = []\n",
    "for c in range(0, nCluster):\n",
    "    sm = SMOTE(random_state=42)\n",
    "    x_res, y_res = sm.fit_resample(ntrainX[c], ntrainY[c])\n",
    "    parameters = lrResultSmoteN[c].best_params_\n",
    "    lrm = LogisticRegression(solver='saga', **parameters, max_iter=5000)\n",
    "    lrm.fit(x_res, y_res)\n",
    "    lrModelsN.append(lrm)"
   ]
  },
  {
   "cell_type": "code",
   "execution_count": 58,
   "metadata": {},
   "outputs": [],
   "source": [
    "stackingClassN = []\n",
    "stackingVote = []\n",
    "for c in range(0, nCluster):\n",
    "    sm = SMOTE(random_state=42)\n",
    "    x_res, y_res = sm.fit_resample(nstackX[c], nstackY[c])\n",
    "    estimators = [\n",
    "        ('gbc', gradientModelsN[c]),\n",
    "        ('rf', rfModelsN[c]),\n",
    "        ('lr', lrModelsN[c]) ]\n",
    "    stackingModel = StackingClassifier(estimators=estimators, final_estimator=LogisticRegression(max_iter=5000), cv='prefit', passthrough = True)\n",
    "    stackingClassN.append(stackingModel.fit(x_res, y_res))"
   ]
  },
  {
   "cell_type": "code",
   "execution_count": 59,
   "metadata": {},
   "outputs": [
    {
     "name": "stdout",
     "output_type": "stream",
     "text": [
      "0\n",
      "[[1488  425]\n",
      " [  88   80]]\n",
      "0.23774145616641898\n",
      "--------------\n",
      "1\n",
      "[[1392  471]\n",
      " [ 146   72]]\n",
      "0.18922470433639949\n",
      "--------------\n",
      "2\n",
      "[[1515  383]\n",
      " [  76  107]]\n",
      "0.3179791976225855\n",
      "--------------\n",
      "3\n",
      "[[1336  472]\n",
      " [ 160  113]]\n",
      "0.2634032634032634\n",
      "--------------\n",
      "4\n",
      "[[1263  443]\n",
      " [ 177  198]]\n",
      "0.3897637795275591\n",
      "--------------\n",
      "5\n",
      "[[1459  458]\n",
      " [  84   80]]\n",
      "0.22792022792022792\n",
      "--------------\n",
      "6\n",
      "[[1453  438]\n",
      " [ 105   85]]\n",
      "0.23842917251051896\n",
      "--------------\n",
      "7\n",
      "[[1144  427]\n",
      " [ 218  292]]\n",
      "0.47518307567127743\n",
      "--------------\n"
     ]
    }
   ],
   "source": [
    "for c in range(0, nCluster):\n",
    "    print(c)\n",
    "    print(metrics.confusion_matrix(ntestY[c], stackingClassN[c].predict(ntestX[c])))\n",
    "    print(metrics.f1_score(ntestY[c], stackingClassN[c].predict(ntestX[c])))\n",
    "    print(\"--------------\")"
   ]
  },
  {
   "cell_type": "code",
   "execution_count": 64,
   "metadata": {},
   "outputs": [
    {
     "name": "stderr",
     "output_type": "stream",
     "text": [
      "C:\\Users\\Akos\\anaconda3\\lib\\site-packages\\sklearn\\linear_model\\_sag.py:350: ConvergenceWarning: The max_iter was reached which means the coef_ did not converge\n",
      "  warnings.warn(\n",
      "C:\\Users\\Akos\\anaconda3\\lib\\site-packages\\sklearn\\linear_model\\_sag.py:350: ConvergenceWarning: The max_iter was reached which means the coef_ did not converge\n",
      "  warnings.warn(\n",
      "C:\\Users\\Akos\\anaconda3\\lib\\site-packages\\sklearn\\linear_model\\_sag.py:350: ConvergenceWarning: The max_iter was reached which means the coef_ did not converge\n",
      "  warnings.warn(\n",
      "C:\\Users\\Akos\\anaconda3\\lib\\site-packages\\sklearn\\linear_model\\_sag.py:350: ConvergenceWarning: The max_iter was reached which means the coef_ did not converge\n",
      "  warnings.warn(\n",
      "C:\\Users\\Akos\\anaconda3\\lib\\site-packages\\sklearn\\linear_model\\_logistic.py:1113: UserWarning: Setting penalty='none' will ignore the C and l1_ratio parameters\n",
      "  warnings.warn(\n",
      "C:\\Users\\Akos\\anaconda3\\lib\\site-packages\\sklearn\\linear_model\\_sag.py:350: ConvergenceWarning: The max_iter was reached which means the coef_ did not converge\n",
      "  warnings.warn(\n",
      "C:\\Users\\Akos\\anaconda3\\lib\\site-packages\\sklearn\\linear_model\\_sag.py:350: ConvergenceWarning: The max_iter was reached which means the coef_ did not converge\n",
      "  warnings.warn(\n",
      "C:\\Users\\Akos\\anaconda3\\lib\\site-packages\\sklearn\\linear_model\\_sag.py:350: ConvergenceWarning: The max_iter was reached which means the coef_ did not converge\n",
      "  warnings.warn(\n",
      "C:\\Users\\Akos\\anaconda3\\lib\\site-packages\\sklearn\\linear_model\\_sag.py:350: ConvergenceWarning: The max_iter was reached which means the coef_ did not converge\n",
      "  warnings.warn(\n"
     ]
    }
   ],
   "source": [
    "stackingVoteN = []\n",
    "for c in range(0, nCluster):\n",
    "    sm = SMOTE(random_state=42)\n",
    "    x_res, y_res = sm.fit_resample(ntrainX[c], ntrainY[c])\n",
    "    voteModel = VotingClassifier(estimators = [\n",
    "        ('gbc', gradientModelsN[c]),\n",
    "        ('rf', rfModelsN[c]),\n",
    "        ('lr', lrModelsN[c]),\n",
    "        ], voting='hard')\n",
    "    stackingVoteN.append(voteModel.fit(x_res, y_res))"
   ]
  },
  {
   "cell_type": "code",
   "execution_count": 65,
   "metadata": {},
   "outputs": [
    {
     "name": "stdout",
     "output_type": "stream",
     "text": [
      "0\n",
      "[[1424  489]\n",
      " [  85   83]]\n",
      "0.2243243243243243\n",
      "--------------\n",
      "1\n",
      "[[1469  394]\n",
      " [ 163   55]]\n",
      "0.16491754122938532\n",
      "--------------\n",
      "2\n",
      "[[1491  407]\n",
      " [  89   94]]\n",
      "0.27485380116959063\n",
      "--------------\n",
      "3\n",
      "[[1285  523]\n",
      " [ 168  105]]\n",
      "0.23307436182019978\n",
      "--------------\n",
      "4\n",
      "[[1229  477]\n",
      " [ 168  207]]\n",
      "0.3909348441926346\n",
      "--------------\n",
      "5\n",
      "[[1476  441]\n",
      " [  96   68]]\n",
      "0.20208023774145617\n",
      "--------------\n",
      "6\n",
      "[[1496  395]\n",
      " [ 116   74]]\n",
      "0.22458270106221548\n",
      "--------------\n",
      "7\n",
      "[[1120  451]\n",
      " [ 241  269]]\n",
      "0.4373983739837398\n",
      "--------------\n"
     ]
    }
   ],
   "source": [
    "for c in range(0, nCluster):\n",
    "    print(c)\n",
    "    print(metrics.confusion_matrix(ntestY[c], stackingVoteN[c].predict(ntestX[c])))\n",
    "    print(metrics.f1_score(ntestY[c], stackingVoteN[c].predict(ntestX[c])))\n",
    "    print(\"--------------\")"
   ]
  },
  {
   "cell_type": "code",
   "execution_count": null,
   "metadata": {},
   "outputs": [],
   "source": [
    "finalModel = StackingClassifier(estimators=stackingClass, final_estimator=LogisticRegression(max_iter=5000), cv='prefit', passthrough = False)\n",
    "finalModel = finalModel.fit(cCluster, targetLabels))"
   ]
  },
  {
   "cell_type": "code",
   "execution_count": null,
   "metadata": {},
   "outputs": [],
   "source": []
  }
 ],
 "metadata": {
  "kernelspec": {
   "display_name": "Python 3",
   "language": "python",
   "name": "python3"
  },
  "language_info": {
   "codemirror_mode": {
    "name": "ipython",
    "version": 3
   },
   "file_extension": ".py",
   "mimetype": "text/x-python",
   "name": "python",
   "nbconvert_exporter": "python",
   "pygments_lexer": "ipython3",
   "version": "3.8.1"
  }
 },
 "nbformat": 4,
 "nbformat_minor": 4
}
